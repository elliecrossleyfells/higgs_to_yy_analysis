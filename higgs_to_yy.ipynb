{
 "cells": [
  {
   "cell_type": "code",
   "execution_count": 14,
   "id": "dc58f253-ab60-41cc-af75-43875a6aefff",
   "metadata": {
    "tags": []
   },
   "outputs": [],
   "source": [
    "import uproot # for .root files\n",
    "import time # to measure time to analyse\n",
    "import math\n",
    "import awkward as ak # for complex nested data structures\n",
    "import numpy as np\n",
    "import matplotlib.pyplot as plt\n",
    "from matplotlib.ticker import MaxNLocator,AutoMinorLocator # for minor ticks\n",
    "from lmfit.models import PolynomialModel, GaussianModel # for signal and background fits\n",
    "import vector\n",
    "import requests\n",
    "import aiohttp\n",
    "import atlasopenmagic as atom # to access data"
   ]
  },
  {
   "cell_type": "markdown",
   "id": "eef7942a-6dab-4040-8729-23daaf1e11a6",
   "metadata": {},
   "source": [
    "<b> Accessing the data directly from ATLAS Open Data </b>"
   ]
  },
  {
   "cell_type": "code",
   "execution_count": 15,
   "id": "db9e6a26-199c-4a0d-b5d7-956aa6c4f39a",
   "metadata": {
    "tags": []
   },
   "outputs": [
    {
     "name": "stdout",
     "output_type": "stream",
     "text": [
      "Active release set to: 2025e-13tev-beta. Metadata cache cleared.\n"
     ]
    }
   ],
   "source": [
    "# atom.available_releases()\n",
    "# https://opendata.cern.ch/record/93910\n",
    "atom.set_release('2025e-13tev-beta') #latest release "
   ]
  },
  {
   "cell_type": "markdown",
   "id": "e7665912-e2d6-40f2-aa0c-69ab751f10e5",
   "metadata": {},
   "source": [
    "<b> Within the data, n-tuples have already been selected (skimmed) to contain at least 2 photons under the name GamGam. </b>"
   ]
  },
  {
   "cell_type": "code",
   "execution_count": 16,
   "id": "493e015e-69e0-4ebc-b852-2acc7dfdc73d",
   "metadata": {
    "tags": []
   },
   "outputs": [],
   "source": [
    "skim = \"GamGam\""
   ]
  },
  {
   "cell_type": "code",
   "execution_count": 17,
   "id": "3cb7e1da-9800-4f24-af51-d5636e88ddc1",
   "metadata": {
    "tags": []
   },
   "outputs": [],
   "source": [
    "# Get the files locally instead of streaming \n",
    "local_files = True"
   ]
  },
  {
   "cell_type": "markdown",
   "id": "dfe65333-1698-4f01-944a-43ab7d6ea8a1",
   "metadata": {},
   "source": [
    "<b> The data is currently organized into collection periods. In this project 2015 data from periods D, E, F, G, H, J is used, as well as 2016 data from periods A, B, C, D, E, F, G, K, L. </b>"
   ]
  },
  {
   "cell_type": "code",
   "execution_count": 18,
   "id": "66e9bbb3-49a0-4238-9251-6ee338b2b90f",
   "metadata": {
    "tags": []
   },
   "outputs": [
    {
     "name": "stdout",
     "output_type": "stream",
     "text": [
      "\u001b[91mDeprecationWarning: The build_data_dataset function is deprecated. Use build_dataset with the appropriate data definitions instead. (C:\\Users\\ellie\\Documents\\Anaconda_Nucleus\\Lib\\site-packages\\atlasopenmagic\\utils.py:161)\u001b[0m\n",
      "Fetching and caching all metadata for release: 2025e-13tev-beta...\n",
      "Successfully cached 374 datasets.\n"
     ]
    }
   ],
   "source": [
    "samples_list = atom.build_data_dataset(skim, protocol='https')"
   ]
  },
  {
   "cell_type": "code",
   "execution_count": 19,
   "id": "9c2359d7-a481-46eb-9d26-40f2d9f4abff",
   "metadata": {
    "tags": []
   },
   "outputs": [
    {
     "name": "stdout",
     "output_type": "stream",
     "text": [
      "value = 'https://opendata.cern.ch/eos/opendata/atlas/rucio/opendata/ODEO_FEB2025_v0_GamGam_data15_periodD.GamGam.root'\n"
     ]
    }
   ],
   "source": [
    "# We shall use the first entry in 'list', 'data15_periodD'\n",
    "value = samples_list['Data']['list'][0]\n",
    "print(f\"{value = }\")\n",
    "\n",
    "# This is now appended to our file path to retrieve the data_A.4lep.root file\n",
    "data15_periodD = value #path + \"Data/\" + value + \".root\""
   ]
  },
  {
   "cell_type": "code",
   "execution_count": 20,
   "id": "8020c806-b9cf-47e8-b7b4-9cb7b2ebdf65",
   "metadata": {
    "tags": []
   },
   "outputs": [
    {
     "name": "stdout",
     "output_type": "stream",
     "text": [
      "Downloading https://opendata.cern.ch/eos/opendata/atlas/rucio/opendata/ODEO_FEB2025_v0_GamGam_data15_periodD.GamGam.root to ODEO_FEB2025_v0_GamGam_data15_periodD.GamGam.root ...\n",
      "The number of entries in the tree are: 63195\n",
      "The information stored in the tree is: ['num_events', 'sum_of_weights', 'sum_of_weights_squared', 'category', 'sig_ph', 'n_sig_ph', 'TriggerMatch_DILEPTON', 'ScaleFactor_MLTRIGGER', 'ScaleFactor_PILEUP', 'ScaleFactor_FTAG', 'mcWeight', 'xsec', 'filteff', 'kfac', 'channelNumber', 'eventNumber', 'runNumber', 'trigML', 'trigP', 'trigDT', 'trigT', 'trigE', 'trigDM', 'trigDE', 'trigM', 'trigMET', 'ScaleFactor_BTAG', 'ScaleFactor_JVT', 'jet_n', 'jet_pt', 'jet_eta', 'jet_phi', 'jet_e', 'jet_btag_quantile', 'jet_jvt', 'largeRJet_n', 'largeRJet_pt', 'largeRJet_eta', 'largeRJet_phi', 'largeRJet_e', 'largeRJet_m', 'largeRJet_D2', 'jet_pt_jer1', 'jet_pt_jer2', 'ScaleFactor_ELE', 'ScaleFactor_MUON', 'ScaleFactor_LepTRIGGER', 'ScaleFactor_MuTRIGGER', 'ScaleFactor_ElTRIGGER', 'lep_n', 'lep_type', 'lep_pt', 'lep_eta', 'lep_phi', 'lep_e', 'lep_charge', 'lep_ptvarcone30', 'lep_topoetcone20', 'lep_z0', 'lep_d0', 'lep_d0sig', 'lep_isTightID', 'lep_isMediumID', 'lep_isLooseID', 'lep_isTightIso', 'lep_isLooseIso', 'lep_isTrigMatched', 'ScaleFactor_PHOTON', 'photon_n', 'photon_pt', 'photon_eta', 'photon_phi', 'photon_e', 'photon_ptcone20', 'photon_topoetcone40', 'photon_isLooseID', 'photon_isTightID', 'photon_isLooseIso', 'photon_isTightIso', 'ScaleFactor_TAU', 'ScaleFactor_TauTRIGGER', 'ScaleFactor_DiTauTRIGGER', 'tau_n', 'tau_pt', 'tau_eta', 'tau_phi', 'tau_e', 'tau_charge', 'tau_nTracks', 'tau_isTight', 'tau_RNNJetScore', 'tau_RNNEleScore', 'truth_jet_n', 'truth_jet_pt', 'truth_jet_eta', 'truth_jet_phi', 'truth_jet_m', 'truth_elec_n', 'truth_elec_pt', 'truth_elec_eta', 'truth_elec_phi', 'truth_muon_n', 'truth_muon_pt', 'truth_muon_eta', 'truth_muon_phi', 'truth_tau_n', 'truth_tau_pt', 'truth_tau_eta', 'truth_tau_phi', 'truth_photon_n', 'truth_photon_pt', 'truth_photon_eta', 'truth_photon_phi', 'truth_met', 'truth_met_phi', 'met', 'met_phi', 'met_mpx', 'met_mpy']\n"
     ]
    }
   ],
   "source": [
    "# Accessing the file from the online database (\":analysis\" opens the tree in a desired manner)\n",
    "if local_files:\n",
    "    # Download the file, use a local copy\n",
    "    local_filename = data15_periodD.split(\"/\")[-1]\n",
    "    print(f\"Downloading {data15_periodD} to {local_filename} ...\")\n",
    "    with requests.get(data15_periodD, stream=True) as r:\n",
    "        r.raise_for_status()\n",
    "        with open(local_filename, \"wb\") as f:\n",
    "            for chunk in r.iter_content(chunk_size=8192):\n",
    "                f.write(chunk)\n",
    "    tree = uproot.open(local_filename + \":analysis\")\n",
    "else: # Stream files\n",
    "    tree = uproot.open(data15_periodD + \":analysis\")\n",
    "# The number of entries in the tree can be viewed\n",
    "print(\"The number of entries in the tree are:\", tree.num_entries)\n",
    "\n",
    "# All the information stored in the tree can be viewed using the .keys() method.\n",
    "print(\"The information stored in the tree is:\", tree.keys())"
   ]
  },
  {
   "cell_type": "markdown",
   "id": "2852fac8-26b6-4356-a107-a3019fd8a2c0",
   "metadata": {},
   "source": [
    "<b> Taking a look at the various energies of the photons. </b>"
   ]
  },
  {
   "cell_type": "code",
   "execution_count": 12,
   "id": "ed601afc-914c-4923-8905-930302828726",
   "metadata": {
    "tags": []
   },
   "outputs": [
    {
     "data": {
      "text/html": [
       "<pre>[{photon_eta: [1.66, 0.637]},\n",
       " {photon_eta: [-1.86, -1.22]},\n",
       " {photon_eta: [-1.63, 1.46]},\n",
       " {photon_eta: [-1.71, -1.65]},\n",
       " {photon_eta: [-0.0961, 0.627]},\n",
       " {photon_eta: [-1.31, -1.31]},\n",
       " {photon_eta: [-0.192, -2.2]},\n",
       " {photon_eta: [1.14, 0.455]},\n",
       " {photon_eta: [0.877, -0.59]},\n",
       " {photon_eta: [-0.982, 0.475]},\n",
       " ...,\n",
       " {photon_eta: [-1.74, 0.558]},\n",
       " {photon_eta: [-0.858, -0.863]},\n",
       " {photon_eta: [0.238, 0.441]},\n",
       " {photon_eta: [1.16, 1.53]},\n",
       " {photon_eta: [1.18, 1.18]},\n",
       " {photon_eta: [-0.669, 0.769]},\n",
       " {photon_eta: [-1.88, -1.87]},\n",
       " {photon_eta: [-0.126, 1.99]},\n",
       " {photon_eta: [1.31, 0.534]}]\n",
       "--------------------------------\n",
       "backend: cpu\n",
       "nbytes: 1.0 MB\n",
       "type: 63195 * {\n",
       "    photon_eta: var * float32\n",
       "}</pre>"
      ],
      "text/plain": [
       "<Array [{photon_eta: [1.66, ...]}, ..., {...}] type='63195 * {photon_eta: v...'>"
      ]
     },
     "execution_count": 12,
     "metadata": {},
     "output_type": "execute_result"
    }
   ],
   "source": [
    "tree[\"photon_e\"].arrays()"
   ]
  },
  {
   "cell_type": "code",
   "execution_count": 21,
   "id": "db4a3a44-8832-4997-be42-9c5a5d0c0ab7",
   "metadata": {
    "tags": []
   },
   "outputs": [],
   "source": [
    "#collecting most important photon variables for analysis\n",
    "variables = [\"photon_pt\", \"photon_eta\", \"photon_phi\", \"photon_e\", \"photon_isTightID\", \"photon_ptcone20\"]"
   ]
  },
  {
   "cell_type": "markdown",
   "id": "79ecbe97-27ba-4386-8af6-5347a7fef2ce",
   "metadata": {},
   "source": [
    "### Data Cuts (Applying Photon Selection Criteria)\n",
    "Selection criteria for photons must now be applied to cut out background photons. Strict criterion is applied due to risk misidentifying jets and other particles that can mimic photon signals.\n",
    "\n",
    "1. The leading photon candidate is required to have an $E_t$ (Transverse Energy) > 50 GeV and the sub-leading photon > 30 GeV because background processes frequently generate photons with lower $E_t$. As photons are massless, enforcing restriction on $E_t$ also enforces restriction on $P_t$ (Transverse Momentum)\n",
    "2. Photon candidates are required to have a calorimeter isolation, consisting on the sum of the transverse energies of energy clusters in the calorimeter around a spatial cone centered around the photon, in order to make sure the photons detected are not originating from jets. Additional photon transverse energy relative to the diphoton mass isolation is also required. Only the events where the invidivual photon calorimeter isolation is less than 5.5% are kept.\n",
    "3. Since the transition between the the barrel and end-cap of the calorimeter can introduce uncertainties in the energy measurements of particles this issue is resolved by excluding the calorimeter barrel/end-cap transition region 1.37 < |η| < 1.52.\n",
    "\n",
    "### Invariant Mass Calculation \n",
    "The calculation is performed on the sum of the 4 photon momenta: <i>photon_pt, photon_eta, photon_phi, photon_e</i>\n",
    "1. The likely invariant mass for the Higgs (based on theoretical predictions and experimental constraint) is in the region of 124–126 GeV. Only the events where the invididual photon invariant mass based isolation is larger than 35% are kept.\n",
    "\n",
    "Below shows applying data cuts and calculating the invariant mass for 1 event. The output shows that the event does not full-fill all required criteria and therefore the event will be dropped and not used for the analysis.  \n"
   ]
  },
  {
   "cell_type": "code",
   "execution_count": 22,
   "id": "9287d33e-a57c-44b8-926b-71badc398ab4",
   "metadata": {
    "tags": []
   },
   "outputs": [
    {
     "name": "stdout",
     "output_type": "stream",
     "text": [
      "The reconstruction quality of the two photons: [True] [True]\n",
      "Apply cut based on reconstruction quality requirements?[False]\n",
      "The transverse momentum of the two photons: [106] [47.6]\n",
      "Apply cut based on the transverse momentum requirements?[False]\n",
      "The calorimeter isolation of the two photons: [0] [0.174]\n",
      "Apply cut based on the calorimeter isolation requirements?[True]\n",
      "The eta of the two photons: [1.66] [0.637]\n",
      "Apply cut based on the eta requirements?[False]\n",
      "The invariant mass of the 2-photon state is: [160] GeV\n",
      "The invariant mass based isolation of the two photons: [0.662] [0.296]\n",
      "Apply cut based on the invariant mass based isolation requirements?[True]\n"
     ]
    }
   ],
   "source": [
    "# This selects the first entry of the tree\n",
    "entry = tree.arrays(library=\"ak\")[:1]\n",
    "\n",
    "# Cut on the photon reconstruction quality\n",
    "photon_reconstruction = entry['photon_isTightID']\n",
    "# isTightID==True means a photon identified as being well reconstructed, only the events which have True for both photons are kept\n",
    "photon_reconstruction_cut_bool = (photon_reconstruction[:, 0] == False) | (photon_reconstruction[:, 1]==False) # [:, i] selects the i-th lepton in each event\n",
    "print(\"The reconstruction quality of the two photons:\", photon_reconstruction[:,0], photon_reconstruction[:,1])\n",
    "print(f\"Apply cut based on reconstruction quality requirements?{photon_reconstruction_cut_bool}\")\n",
    "    \n",
    "# Cut on the transverse momentum\n",
    "photon_pt = entry['photon_pt']\n",
    "# Only the events where the leading photon has transverse momentum (pt) > 50 GeV and the sub-leading photon has pt > 30 GeV are kept\n",
    "# Since the two photons for each entry are ordered, the first photon is the leading one and the second one is the sub-leading one\n",
    "photon_pt_cut_bool = (photon_pt[:,0] < 50) | (photon_pt[:,1] < 30)\n",
    "print(\"The transverse momentum of the two photons:\", photon_pt[:,0], photon_pt[:,1])\n",
    "print(f\"Apply cut based on the transverse momentum requirements?{photon_pt_cut_bool}\")\n",
    "\n",
    "# Cut on the calorimeter isolation\n",
    "photon_ptcone20 = entry['photon_ptcone20']\n",
    "# Only the events where the invidivual photon calorimeter isolation is less than 5.5% are kept\n",
    "photon_caloiso_cut_bool = (((photon_ptcone20[:,0]/photon_pt[:,0]) > 0.055) | ((photon_ptcone20[:,1]/photon_pt[:,1]) > 0.055))\n",
    "print(\"The calorimeter isolation of the two photons:\", (photon_ptcone20[:,0]/photon_pt[:,0]), (photon_ptcone20[:,1]/photon_pt[:,1]))\n",
    "print(f\"Apply cut based on the calorimeter isolation requirements?{photon_caloiso_cut_bool}\")\n",
    "\n",
    "# Cut on the pseudorapidity in the barrel/end-cap transition region\n",
    "photon_eta = entry['photon_eta']\n",
    "# Only the events where modulus of photon_eta is outside the range 1.37 to 1.52 are kept\n",
    "condition_0 = (np.abs(photon_eta[:, 0]) < 1.52) & (np.abs(photon_eta[:, 0]) > 1.37)\n",
    "condition_1 = (np.abs(photon_eta[:, 1]) < 1.52) & (np.abs(photon_eta[:, 1]) > 1.37)\n",
    "photon_eta_cut_bool = (condition_0 | condition_1)\n",
    "print(\"The eta of the two photons:\", photon_eta[:,0], photon_eta[:,1])\n",
    "print(f\"Apply cut based on the eta requirements?{photon_eta_cut_bool}\")\n",
    "\n",
    "# This calculates the invariant mass of the 2-photon state\n",
    "p4 = vector.zip({\"pt\": entry['photon_pt'], \"eta\": entry['photon_eta'], \"phi\": entry['photon_phi'], \"e\": entry['photon_e']})\n",
    "invariant_mass = (p4[:, 0] + p4[:, 1]).M # .M calculates the invariant mass\n",
    "print(f\"The invariant mass of the 2-photon state is: {invariant_mass} GeV\")\n",
    "\n",
    "# Cut on the invariant mass based isolation\n",
    "# Only the events where the invididual photon invariant mass based isolation is larger than 35% are kept\n",
    "photon_massiso_cut_bool = ((photon_pt[:,0]/invariant_mass) < 0.35) | ((photon_pt[:,1]/invariant_mass) < 0.35)\n",
    "print(\"The invariant mass based isolation of the two photons:\", (photon_pt[:,0]/invariant_mass), (photon_pt[:,1]/invariant_mass))\n",
    "print(f\"Apply cut based on the invariant mass based isolation requirements?{photon_massiso_cut_bool}\")"
   ]
  },
  {
   "cell_type": "code",
   "execution_count": 23,
   "id": "32e469be-2026-4a77-b58f-63d62abb2bdd",
   "metadata": {
    "tags": []
   },
   "outputs": [],
   "source": [
    "# Cut on the photon reconstruction quality\n",
    "def cut_photon_reconstruction(photon_isTightID):\n",
    "    # Only the events which have True for both photons are kept\n",
    "    return (photon_isTightID[:,0]==False) | (photon_isTightID[:,1]==False) \n",
    "\n",
    "# Cut on the transverse momentum\n",
    "def cut_photon_pt(photon_pt):\n",
    "# Only the events where photon_pt[0] > 50 GeV and photon_pt[1] > 30 GeV are kept\n",
    "    return (photon_pt[:,0] < 50) | (photon_pt[:,1] < 30)\n",
    "\n",
    "# Cut on the energy isolation\n",
    "def cut_isolation_pt(photon_ptcone20, photon_pt):\n",
    "# Only the events where the calorimeter isolation is less than 5.5% are kept\n",
    "    return ((photon_ptcone20[:,0]/photon_pt[:,0]) > 0.055) | ((photon_ptcone20[:,1]/photon_pt[:,1]) > 0.055)\n",
    "\n",
    "# Cut on the pseudorapidity in barrel/end-cap transition region\n",
    "def cut_photon_eta_transition(photon_eta):\n",
    "# Only the events where modulus of photon_eta is outside the range 1.37 to 1.52 are kept\n",
    "    condition_0 = (np.abs(photon_eta[:, 0]) < 1.52) & (np.abs(photon_eta[:, 0]) > 1.37)\n",
    "    condition_1 = (np.abs(photon_eta[:, 1]) < 1.52) & (np.abs(photon_eta[:, 1]) > 1.37)\n",
    "    return condition_0 | condition_1\n",
    "\n",
    "# calculating the invariant mass of the 2-photons\n",
    "def calc_mass(photon_pt, photon_eta, photon_phi, photon_e):\n",
    "    p4 = vector.zip({\"pt\": photon_pt, \"eta\": photon_eta, \"phi\": photon_phi, \"e\": photon_e})\n",
    "    invariant_mass = (p4[:, 0] + p4[:, 1]).M # .M calculates the invariant mass for the 4 momenta\n",
    "    return invariant_mass\n",
    "\n",
    "# Cut on null diphoton invariant mass\n",
    "def cut_mass(invariant_mass):\n",
    "    return (invariant_mass == 0)\n",
    "\n",
    "# Cut on diphoton invariant mass based isolation \n",
    "# Only the events where the invididual photon invariant mass based isolation is larger than 35% are kept\n",
    "def cut_iso_mass(photon_pt, invariant_mass):\n",
    "    return ((photon_pt[:,0]/invariant_mass) < 0.35) | ((photon_pt[:,1]/invariant_mass) < 0.35)"
   ]
  },
  {
   "cell_type": "code",
   "execution_count": 25,
   "id": "e2a2a258-af97-43f8-b9ee-483ee378ab06",
   "metadata": {
    "tags": []
   },
   "outputs": [],
   "source": [
    "# Define empty list to hold all data for this sample\n",
    "sample_data = []\n",
    "\n",
    "# Perform the cuts for each data entry in the tree\n",
    "for data in tree.iterate(variables, library=\"ak\"):\n",
    "    \n",
    "    # data[~boolean] is used to remove entries from the data set\n",
    "    photon_isTightID = data['photon_isTightID']\n",
    "    data = data[~cut_photon_reconstruction(photon_isTightID)]\n",
    "\n",
    "    photon_pt = data['photon_pt']\n",
    "    data = data[~cut_photon_pt(photon_pt)]\n",
    "\n",
    "    data = data[~cut_isolation_pt(data['photon_ptcone20'],data['photon_pt'])]\n",
    "\n",
    "    photon_eta = data['photon_eta']\n",
    "    data = data[~cut_photon_eta_transition(photon_eta)]\n",
    "    \n",
    "    data['mass'] = calc_mass(data['photon_pt'], data['photon_eta'], data['photon_phi'], data['photon_e'])\n",
    "    \n",
    "    data = data[~cut_mass(data['mass'])]\n",
    "        \n",
    "    data = data[~cut_iso_mass(data['photon_pt'], data['mass'])]\n",
    "    \n",
    "    # Append data to the whole sample data list\n",
    "    sample_data.append(data['mass'])\n",
    "\n",
    "# turn sample_data back into an awkward array\n",
    "data15_periodD = ak.concatenate(sample_data)"
   ]
  },
  {
   "cell_type": "markdown",
   "id": "a4cdac7f-b64e-4f61-abdd-30a419559291",
   "metadata": {},
   "source": [
    "## plotting the invariant mass data15_periodD root file"
   ]
  },
  {
   "cell_type": "code",
   "execution_count": 26,
   "id": "36a71ad5-d966-456a-97a5-647d9b0cb21d",
   "metadata": {
    "tags": []
   },
   "outputs": [
    {
     "data": {
      "image/png": "[encoded data removed]",
      "text/plain": [
       "<Figure size 640x480 with 1 Axes>"
      ]
     },
     "metadata": {},
     "output_type": "display_data"
    }
   ],
   "source": [
    "# x-axis range of the plot\n",
    "xmin = 100 #GeV\n",
    "xmax = 160 #GeV\n",
    "\n",
    "# Histogram bin setup\n",
    "step_size = 1 #GeV\n",
    "bin_edges = np.arange(start=xmin, # The interval includes this value\n",
    "                    stop=xmax+step_size, # The interval doesn't include this value\n",
    "                    step=step_size ) # Spacing between values\n",
    "bin_centres = np.arange(start=xmin+step_size/2, # The interval includes this value\n",
    "                        stop=xmax+step_size/2, # The interval doesn't include this value\n",
    "                        step=step_size ) # Spacing between values\n",
    "\n",
    "# Creating histogram from data\n",
    "data_x,_ = np.histogram(ak.to_numpy(data15_periodD), \n",
    "                        bins=bin_edges ) # histogram the data\n",
    "data_x_errors = np.sqrt( data_x ) # statistical error on the data\n",
    "\n",
    "\n",
    "# *************\n",
    "# Main plot \n",
    "# *************\n",
    "main_axes = plt.gca() # get current axes\n",
    "\n",
    "# plot the data points\n",
    "main_axes.errorbar(x=bin_centres, y=data_x, yerr=data_x_errors,\n",
    "                    fmt='ko', # 'k' means black and 'o' is for circles \n",
    "                    label='Data') \n",
    "\n",
    "# set the x-limit of the main axes\n",
    "main_axes.set_xlim( left=xmin, right=xmax ) \n",
    "\n",
    "# separation of x axis minor ticks\n",
    "main_axes.xaxis.set_minor_locator( AutoMinorLocator() ) \n",
    "\n",
    "# set the axis tick parameters for the main axes\n",
    "main_axes.tick_params(which='both', # ticks on both x and y axes\n",
    "                        direction='in', # Put ticks inside and outside the axes\n",
    "                        top=True, # draw ticks on the top axis\n",
    "                        right=True ) # draw ticks on right axis\n",
    "\n",
    "# x-axis label\n",
    "main_axes.set_xlabel(r'di-photon invariant mass $\\mathrm{m_{\\gamma\\gamma}}$ [GeV]',\n",
    "                    fontsize=13, x=1, horizontalalignment='right' )\n",
    "\n",
    "# write y-axis label for main axes\n",
    "main_axes.set_ylabel('Events / '+str(step_size)+' GeV',\n",
    "                        y=1, horizontalalignment='right') \n",
    "\n",
    "# set y-axis limits for main axes\n",
    "main_axes.set_ylim( bottom=0, top=np.amax(data_x)*1.6 )\n",
    "\n",
    "# add minor ticks on y-axis for main axes\n",
    "main_axes.yaxis.set_minor_locator( AutoMinorLocator() ) \n",
    "\n",
    "# draw the legend\n",
    "main_axes.legend( frameon=False ); # no box around the legend"
   ]
  },
  {
   "cell_type": "markdown",
   "id": "dc6c486e-29e2-4ece-a973-c7f075d521fb",
   "metadata": {},
   "source": [
    "## Applying data cuts and calculations across all other data collection periods"
   ]
  },
  {
   "cell_type": "code",
   "execution_count": 43,
   "id": "4394a1f6-b1f3-4f1e-bede-69b659c59f48",
   "metadata": {
    "tags": []
   },
   "outputs": [
    {
     "name": "stdout",
     "output_type": "stream",
     "text": [
      "Processing https://opendata.cern.ch/eos/opendata/atlas/rucio/opendata/ODEO_FEB2025_v0_GamGam_data15_periodD.GamGam.root samples\n",
      "Using existing file ODEO_FEB2025_v0_GamGam_data15_periodD.GamGam.root ...\n",
      "Processing https://opendata.cern.ch/eos/opendata/atlas/rucio/opendata/ODEO_FEB2025_v0_GamGam_data15_periodE.GamGam.root samples\n",
      "Using existing file ODEO_FEB2025_v0_GamGam_data15_periodE.GamGam.root ...\n",
      "Processing https://opendata.cern.ch/eos/opendata/atlas/rucio/opendata/ODEO_FEB2025_v0_GamGam_data15_periodF.GamGam.root samples\n",
      "Using existing file ODEO_FEB2025_v0_GamGam_data15_periodF.GamGam.root ...\n",
      "Processing https://opendata.cern.ch/eos/opendata/atlas/rucio/opendata/ODEO_FEB2025_v0_GamGam_data15_periodG.GamGam.root samples\n",
      "Using existing file ODEO_FEB2025_v0_GamGam_data15_periodG.GamGam.root ...\n",
      "Processing https://opendata.cern.ch/eos/opendata/atlas/rucio/opendata/ODEO_FEB2025_v0_GamGam_data15_periodH.GamGam.root samples\n",
      "Using existing file ODEO_FEB2025_v0_GamGam_data15_periodH.GamGam.root ...\n",
      "Processing https://opendata.cern.ch/eos/opendata/atlas/rucio/opendata/ODEO_FEB2025_v0_GamGam_data15_periodJ.GamGam.root samples\n",
      "Using existing file ODEO_FEB2025_v0_GamGam_data15_periodJ.GamGam.root ...\n",
      "Processing https://opendata.cern.ch/eos/opendata/atlas/rucio/opendata/ODEO_FEB2025_v0_GamGam_data16_periodA.GamGam.root samples\n",
      "Using existing file ODEO_FEB2025_v0_GamGam_data16_periodA.GamGam.root ...\n",
      "Processing https://opendata.cern.ch/eos/opendata/atlas/rucio/opendata/ODEO_FEB2025_v0_GamGam_data16_periodB.GamGam.root samples\n",
      "Using existing file ODEO_FEB2025_v0_GamGam_data16_periodB.GamGam.root ...\n",
      "Processing https://opendata.cern.ch/eos/opendata/atlas/rucio/opendata/ODEO_FEB2025_v0_GamGam_data16_periodC.GamGam.root samples\n",
      "Using existing file ODEO_FEB2025_v0_GamGam_data16_periodC.GamGam.root ...\n",
      "Processing https://opendata.cern.ch/eos/opendata/atlas/rucio/opendata/ODEO_FEB2025_v0_GamGam_data16_periodD.GamGam.root samples\n",
      "Using existing file ODEO_FEB2025_v0_GamGam_data16_periodD.GamGam.root ...\n",
      "Processing https://opendata.cern.ch/eos/opendata/atlas/rucio/opendata/ODEO_FEB2025_v0_GamGam_data16_periodE.GamGam.root samples\n",
      "Using existing file ODEO_FEB2025_v0_GamGam_data16_periodE.GamGam.root ...\n",
      "Processing https://opendata.cern.ch/eos/opendata/atlas/rucio/opendata/ODEO_FEB2025_v0_GamGam_data16_periodF.GamGam.root samples\n",
      "Using existing file ODEO_FEB2025_v0_GamGam_data16_periodF.GamGam.root ...\n",
      "Processing https://opendata.cern.ch/eos/opendata/atlas/rucio/opendata/ODEO_FEB2025_v0_GamGam_data16_periodG.GamGam.root samples\n",
      "Using existing file ODEO_FEB2025_v0_GamGam_data16_periodG.GamGam.root ...\n",
      "Processing https://opendata.cern.ch/eos/opendata/atlas/rucio/opendata/ODEO_FEB2025_v0_GamGam_data16_periodI.GamGam.root samples\n",
      "Using existing file ODEO_FEB2025_v0_GamGam_data16_periodI.GamGam.root ...\n",
      "Processing https://opendata.cern.ch/eos/opendata/atlas/rucio/opendata/ODEO_FEB2025_v0_GamGam_data16_periodK.GamGam.root samples\n",
      "Using existing file ODEO_FEB2025_v0_GamGam_data16_periodK.GamGam.root ...\n",
      "Processing https://opendata.cern.ch/eos/opendata/atlas/rucio/opendata/ODEO_FEB2025_v0_GamGam_data16_periodL.GamGam.root samples\n",
      "Using existing file ODEO_FEB2025_v0_GamGam_data16_periodL.GamGam.root ...\n"
     ]
    }
   ],
   "source": [
    "# Controls the fraction of all the events analysed\n",
    "fraction = 1 # all of the data is used to run this analysis (implemented in the loop over the tree)\n",
    "             # reduce this if you want the code to run quicker\n",
    "\n",
    "all_data = []\n",
    "sample_data = []\n",
    "\n",
    "# # Loop over each file\n",
    "# for val in samples_list['Data']['list']: \n",
    "\n",
    "#     # Print which sample is being processed\n",
    "#     print('Processing '+val+' samples')\n",
    "\n",
    "#     fileString = val# file name to open\n",
    "\n",
    "#     # Open file\n",
    "#     if local_files:\n",
    "#         # Download the file, use a local copy\n",
    "#         local_filename = fileString.split(\"/\")[-1]\n",
    "#         print(f\"Downloading {fileString} to {local_filename} ...\")\n",
    "#         with requests.get(fileString, stream=True) as r:\n",
    "#             r.raise_for_status()\n",
    "#             with open(local_filename, \"wb\") as f:\n",
    "#                 for chunk in r.iter_content(chunk_size=8192):\n",
    "#                     f.write(chunk)\n",
    "#         tree = uproot.open(local_filename + \":analysis\")\n",
    "#     else: # Stream files\n",
    "#         tree = uproot.open(fileString + \":analysis\")\n",
    "\n",
    "#     numevents = tree.num_entries\n",
    "\n",
    "\n",
    "for val in samples_list['Data']['list']:\n",
    "    print('Processing ' + val + ' samples')\n",
    "    fileString = val  # file name to open\n",
    "\n",
    "    if local_files:\n",
    "        local_filename = fileString.split(\"/\")[-1]\n",
    "        if os.path.exists(local_filename):\n",
    "            print(f\"Using existing file {local_filename} ...\")\n",
    "        else:\n",
    "            print(f\"Downloading {fileString} to {local_filename} ...\")\n",
    "            with requests.get(fileString, stream=True) as r:\n",
    "                r.raise_for_status()\n",
    "                with open(local_filename, \"wb\") as f:\n",
    "                    for chunk in r.iter_content(chunk_size=8192):\n",
    "                        f.write(chunk)\n",
    "        tree = uproot.open(local_filename + \":analysis\")\n",
    "    else:\n",
    "        tree = uproot.open(fileString + \":analysis\")\n",
    "\n",
    "    numevents = tree.num_entries\n",
    "\n",
    "    # Perform the cuts for each data entry in the tree and calculate the invariant mass\n",
    "    for data in tree.iterate(variables, library=\"ak\", entry_stop=numevents*fraction):\n",
    "\n",
    "        photon_isTightID = data['photon_isTightID']\n",
    "        data = data[~cut_photon_reconstruction(photon_isTightID)]\n",
    "        \n",
    "        photon_pt = data['photon_pt']\n",
    "        data = data[~cut_photon_pt(photon_pt)]\n",
    "\n",
    "        data = data[~cut_isolation_pt(data['photon_ptcone20'],data['photon_pt'])]\n",
    "\n",
    "        photon_eta = data['photon_eta']\n",
    "        data = data[~cut_photon_eta_transition(photon_eta)]\n",
    "        \n",
    "        data['mass'] = calc_mass(data['photon_pt'], data['photon_eta'], data['photon_phi'], data['photon_e'])\n",
    "\n",
    "        data = data[~cut_mass(data['mass'])]\n",
    "\n",
    "        data = data[~cut_iso_mass(data['photon_pt'], data['mass'])]\n",
    "        \n",
    "        # Append data to the whole sample data list\n",
    "        sample_data.append(data['mass'])\n",
    "        \n",
    "# turns sample_data back into an awkward array\n",
    "all_data = ak.concatenate(sample_data)"
   ]
  },
  {
   "cell_type": "markdown",
   "id": "277104b8-3d03-4847-8b57-9c748748f817",
   "metadata": {},
   "source": [
    "A 4th order polynomial function represents the background, and a Gaussian function represents the signal. \n",
    "The Gaussian model is used due to the nature of the detector's resolution. \n",
    "The fourth-order polynomial is chosen for the background because it offers enough flexibility to capture the overall shape without overfitting, thereby reducing the influence of spurious data—random, irrelevant fluctuations or noise that do not correspond to the true signal or background."
   ]
  },
  {
   "cell_type": "code",
   "execution_count": 44,
   "id": "2d625ec4-d4f1-4a56-a4ec-a2cee52b9f24",
   "metadata": {
    "tags": []
   },
   "outputs": [
    {
     "name": "stdout",
     "output_type": "stream",
     "text": [
      "\u001b[91mDeprecationWarning: invalid escape sequence '\\s' (<>:103)\u001b[0m\n",
      "\u001b[91mDeprecationWarning: invalid escape sequence '\\s' (<>:103)\u001b[0m\n",
      "\u001b[91mDeprecationWarning: invalid escape sequence '\\s' (C:\\Users\\ellie\\AppData\\Local\\Temp\\ipykernel_17600\\56648520.py:103)\u001b[0m\n"
     ]
    },
    {
     "data": {
      "image/png": "[encoded data removed]",
      "text/plain": [
       "<Figure size 640x480 with 2 Axes>"
      ]
     },
     "metadata": {},
     "output_type": "display_data"
    }
   ],
   "source": [
    "plt.rcParams['font.family'] = 'serif'\n",
    "\n",
    "data_x,_ = np.histogram(ak.to_numpy(all_data), \n",
    "                            bins=bin_edges ) # histogram the data\n",
    "data_x_errors = np.sqrt( data_x ) # statistical error on the data\n",
    "\n",
    "# data fit\n",
    "polynomial_mod = PolynomialModel( 4 ) # 4th order polynomial\n",
    "gaussian_mod = GaussianModel() # Gaussian\n",
    "\n",
    "# set initial guesses for the parameters of the polynomial model\n",
    "# c0 + c1*x + c2*x^2 + c3*x^3 + c4*x^4\n",
    "pars = polynomial_mod.guess(data_x, # data to use to guess parameter values\n",
    "                            x=bin_centres, c0=data_x.max(), c1=0,\n",
    "                            c2=0, c3=0, c4=0 )\n",
    "\n",
    "# set initial guesses for the parameters of the Gaussian model\n",
    "pars += gaussian_mod.guess(data_x, # data to use to guess parameter values\n",
    "                        x=bin_centres, amplitude=100, \n",
    "                        center=125, sigma=2 )\n",
    "\n",
    "model = polynomial_mod + gaussian_mod # combined model\n",
    "\n",
    "# fit the model to the data\n",
    "out = model.fit(data_x, # data to be fit\n",
    "                pars, # guesses for the parameters\n",
    "                x=bin_centres, weights=1/data_x_errors ) #ASK\n",
    "\n",
    "# background part of fit\n",
    "params_dict = out.params.valuesdict() # get the parameters from the fit to data\n",
    "c0 = params_dict['c0'] # c0 of c0 + c1*x + c2*x^2 + c3*x^3 + c4*x^4\n",
    "c1 = params_dict['c1'] # c1 of c0 + c1*x + c2*x^2 + c3*x^3 + c4*x^4\n",
    "c2 = params_dict['c2'] # c2 of c0 + c1*x + c2*x^2 + c3*x^3 + c4*x^4\n",
    "c3 = params_dict['c3'] # c3 of c0 + c1*x + c2*x^2 + c3*x^3 + c4*x^4\n",
    "c4 = params_dict['c4'] # c4 of c0 + c1*x + c2*x^2 + c3*x^3 + c4*x^4\n",
    "\n",
    "# get the background only part of the fit to data\n",
    "background = c0 + c1*bin_centres + c2*bin_centres**2 + c3*bin_centres**3 + c4*bin_centres**4\n",
    "\n",
    "# data fit - background fit = signal fit\n",
    "signal_x = data_x - background \n",
    "\n",
    "\n",
    "#==== MAIN PLOT ====#\n",
    "\n",
    "plt.axes([0.1,0.3,0.85,0.65]) # left, bottom, width, height \n",
    "main_axes = plt.gca() # get current axes\n",
    "\n",
    "# plot the data points\n",
    "main_axes.errorbar(x=bin_centres, y=data_x, yerr=data_x_errors, \n",
    "                fmt='o', label='Actuals', markersize=4, color = \"#ed6de2\" ) \n",
    "\n",
    "# plot the signal + background fit\n",
    "main_axes.plot(bin_centres, # x\n",
    "            out.best_fit, # y\n",
    "            '#2f88f5', # single line\n",
    "            label='Sig+Bkg Fit ($m_H=125$ GeV)' )\n",
    "\n",
    "# plot the background only fit\n",
    "main_axes.plot(bin_centres, # x\n",
    "            background, # y\n",
    "            '#2f88f5',\n",
    "            linestyle = '--',# dashed line\n",
    "            label='Bkg (4th order polynomial)' )\n",
    "\n",
    "# set the x-limit of the main axes\n",
    "main_axes.set_xlim( left=xmin, right=xmax ) \n",
    "\n",
    "# separation of x-axis minor ticks\n",
    "main_axes.xaxis.set_minor_locator( AutoMinorLocator() ) \n",
    "\n",
    "# set the axis tick parameters for the main axes\n",
    "main_axes.tick_params(which='both', # ticks on both x and y axes\n",
    "                    direction='in', # Put ticks inside and outside the axes\n",
    "                    top=True, # draw ticks on the top axis\n",
    "                    labelbottom=False, # don't draw tick labels on bottom axis\n",
    "                    right=True ) # draw ticks on right axis\n",
    "\n",
    "# write y-axis label for main \n",
    "main_axes.set_ylabel('Events / '+str(step_size)+' GeV', \n",
    "                    horizontalalignment='right') \n",
    "\n",
    "# set the y-axis limit for the main axes\n",
    "main_axes.set_ylim( bottom=0, top=np.amax(data_x)*1.5 ) \n",
    "\n",
    "# set minor ticks on the y-axis of the main axes\n",
    "main_axes.yaxis.set_minor_locator( AutoMinorLocator() ) \n",
    "\n",
    "# avoid displaying y=0 on the main axes\n",
    "main_axes.yaxis.get_major_ticks()[0].set_visible(False) \n",
    "\n",
    "# Add text 'ATLAS Open Data' on plot\n",
    "plt.text(0.42, # x\n",
    "        0.93, # y\n",
    "        r'$H \\rightarrow \\gamma\\gamma$ decay signals - ATLAS Open Data', # text\n",
    "        transform=main_axes.transAxes, # coordinate system used is that of main_axes\n",
    "        fontsize=11 ) \n",
    "\n",
    "lumi = 36.1\n",
    "lumi_used = str(lumi*fraction) # luminosity to write on the plot\n",
    "plt.text(0.42, # x\n",
    "        0.85, # y\n",
    "        '$\\sqrt{s}$=13 TeV,$\\int$L dt = '+lumi_used+' fb$^{-1}$', # text\n",
    "        transform=main_axes.transAxes, fontsize=10 ) # coordinate system used is that of main_axes \n",
    "\n",
    "# draw the legend\n",
    "main_axes.legend(frameon=False, # no box around the legend\n",
    "                loc='lower left' ) # legend location \n",
    "\n",
    "\n",
    "\n",
    "# ==== Data-Bkg Residuals plot ==== # \n",
    "\n",
    "plt.axes([0.1,0.1,0.85,0.2]) # left, bottom, width, height\n",
    "sub_axes = plt.gca() # get the current axes\n",
    "\n",
    "# set the y axis to be symmetric about Data-Background=0\n",
    "sub_axes.yaxis.set_major_locator( MaxNLocator(nbins='auto', \n",
    "                                            symmetric=True) )\n",
    "\n",
    "# plot Data-Background\n",
    "sub_axes.errorbar(x=bin_centres, y=signal_x, yerr=data_x_errors,\n",
    "                fmt='o',markersize=4, color = '#ed6de2')\n",
    "\n",
    "# draw the fit to data\n",
    "sub_axes.plot(bin_centres, # x\n",
    "            out.best_fit-background, # y\n",
    "            '#2f88f5' ) # single line\n",
    "\n",
    "# draw the background only fit\n",
    "sub_axes.plot(bin_centres, # x\n",
    "            background-background, # y\n",
    "            '#2f88f5',\n",
    "             linestyle = '--')  # dashed red line\n",
    "\n",
    "# set the x-axis limits on the sub axes\n",
    "sub_axes.set_xlim( left=xmin, right=xmax ) \n",
    "\n",
    "# separation of x-axis minor ticks\n",
    "sub_axes.xaxis.set_minor_locator( AutoMinorLocator() ) \n",
    "\n",
    "# x-axis label\n",
    "sub_axes.set_xlabel(r'di-photon invariant mass $\\mathrm{m_{\\gamma\\gamma}}$ [GeV]',\n",
    "                    x=1, horizontalalignment='right', \n",
    "                    fontsize=10 ) \n",
    "\n",
    "# set the tick parameters for the sub axes\n",
    "sub_axes.tick_params(which='both', # ticks on both x and y axes\n",
    "                    direction='in', # Put ticks inside and outside the axes\n",
    "                    top=True, # draw ticks on the top axis\n",
    "                    right=True ) # draw ticks on right axis \n",
    "\n",
    "# separation of y-axis minor ticks\n",
    "sub_axes.yaxis.set_minor_locator( AutoMinorLocator() ) \n",
    "\n",
    "# y-axis label on the sub axes\n",
    "sub_axes.set_ylabel( 'Events-Bkg' ) \n",
    "\n",
    "\n",
    "# Generic features for both plots\n",
    "main_axes.yaxis.set_label_coords( -0.09, 1 ) # x,y coordinates of the y-axis label on the main axes\n",
    "sub_axes.yaxis.set_label_coords( -0.09, 0.5 )"
   ]
  },
  {
   "cell_type": "markdown",
   "id": "e4bf29f0-f165-4978-b9fc-013bf8178901",
   "metadata": {},
   "source": [
    "This chart displays the results of a measurement of the Higgs boson decaying into two photons.\n",
    "using data collected by the ATLAS experiment at the Large Hadron Collider (LHC). The data corresponds to proton-proton collisions at a center-of-mass energy of 13 TeV, with a total integrated luminosity of 36.1 fb\n",
    "X-axis: Shows the invariant mass of the photon pairs, measured in GeV. If these two photons originate from the decay of a single particle (like the Higgs boson), their invariant mass will cluster around the mass of that particle.\n",
    "\n",
    "Y-axis: The number of events per GeV (event rate) for each bin of diphoton invariant mass.\n",
    "\n",
    "Data Points (pink dots): The actual measured data from the ATLAS detector, showing how many diphoton events were observed at each invariant mass.\n",
    "\n",
    "Background Fit (blue dashed line): The expected number of diphoton events from all Standard Model processes except the Higgs boson. This background is mostly due to other processes that produce two photons but not from Higgs decay.\n",
    "\n",
    "Signal + Background Fit (blue line): The sum of the background and the expected Higgs boson signal, as predicted by the Standard Model and fit to the data.\n",
    "\n",
    "The narrow bump at c.125 GeV is a signature of the Higgs boson decaying into two photons. The Standard Model predicts the Higgs boson mass to be about 125 GeV, and this is where the excess is observed.\n"
   ]
  }
 ],
 "metadata": {
  "kernelspec": {
   "display_name": "Python 3 (ipykernel)",
   "language": "python",
   "name": "python3"
  },
  "language_info": {
   "codemirror_mode": {
    "name": "ipython",
    "version": 3
   },
   "file_extension": ".py",
   "mimetype": "text/x-python",
   "name": "python",
   "nbconvert_exporter": "python",
   "pygments_lexer": "ipython3",
   "version": "3.11.5"
  }
 },
 "nbformat": 4,
 "nbformat_minor": 5
}
